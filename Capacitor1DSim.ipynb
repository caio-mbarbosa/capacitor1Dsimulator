{
 "cells": [
  {
   "cell_type": "markdown",
   "id": "9c46c80c",
   "metadata": {},
   "source": [
    "<h1>Parte 1 - Resolução para achar DDPs dos nós"
   ]
  },
  {
   "cell_type": "markdown",
   "id": "df76a143",
   "metadata": {},
   "source": [
    "Equação de Poisson para o caso o meio heterogeneo no caso heterogêneo: \n",
    "$\\nabla^2 \\dot{V} = - \\frac{\\rho v}{\\epsilon_0(1+\\epsilon_r)}$ "
   ]
  },
  {
   "cell_type": "markdown",
   "id": "5632b2c6",
   "metadata": {},
   "source": [
    "Equação de Laplace: $\\nabla^2 \\dot{V} = 0 $"
   ]
  },
  {
   "cell_type": "markdown",
   "id": "4f90bafb",
   "metadata": {},
   "source": [
    "A partir dessas duas equações, pode-se inferir que: <br>\n",
    "$\\frac{d^2V}{d^2z}$ = $\\frac{\\rho_0}{\\epsilon}$ <br>\n",
    "$V(z) = \\frac{\\rho_0}{2\\epsilon}z^2 + az + b$ <br>"
   ]
  },
  {
   "cell_type": "markdown",
   "id": "2ce976b2",
   "metadata": {},
   "source": [
    "Além disso, é possivel definir as condições de retorno para o caso : V(0) = 0 e V(d) = $V_0$"
   ]
  },
  {
   "cell_type": "markdown",
   "id": "f0c60ebf",
   "metadata": {},
   "source": [
    "<em>Assim, com essas equações e condições de contorno, é possivel descobrir a seguinte equação para V(z) : <em><br>"
   ]
  },
  {
   "cell_type": "markdown",
   "id": "6027d752",
   "metadata": {},
   "source": [
    "$V(z) = \\frac{\\rho_0}{2\\epsilon}z^2 -(\\frac{V_0}{d}+\\frac{\\rho_0d}{2\\epsilon})z + V_0$ <br>"
   ]
  },
  {
   "cell_type": "markdown",
   "id": "5c15d171",
   "metadata": {},
   "source": [
    "<h4> Fazendo a dicretização do domínio"
   ]
  },
  {
   "cell_type": "markdown",
   "id": "28aab093",
   "metadata": {},
   "source": [
    "Supondo que a divisão é feita em $N_e$ elementos ao longo do eixo z temos que:"
   ]
  },
  {
   "cell_type": "markdown",
   "id": "5ee5fbea",
   "metadata": {},
   "source": [
    "$l_e = \\frac{d}{N_e}$ <br>\n",
    "Obs: Sendo $l_e$ o tamanho de cada segmento no eixo z <br>\n",
    "Dai, sendo $N_n$ o numero de nós : $N_n = N_e + 1$"
   ]
  },
  {
   "cell_type": "markdown",
   "id": "e5fb1794",
   "metadata": {},
   "source": [
    "<h6>Sistema Linear interpolando os termos"
   ]
  },
  {
   "cell_type": "markdown",
   "id": "0fa4194c",
   "metadata": {},
   "source": [
    "$K^e = \\frac{\\epsilon_0(1+\\epsilon_r)^e}{l_e} \\begin{bmatrix} 1 & -1 \\\\ -1 & 1 \\end{bmatrix}$"
   ]
  },
  {
   "cell_type": "markdown",
   "id": "0f6245e3",
   "metadata": {},
   "source": [
    "$f^e = - \\frac{\\rho_0 l_e}{2} \\begin{bmatrix} 1 \\\\ 1 \\end{bmatrix} $"
   ]
  },
  {
   "cell_type": "markdown",
   "id": "d638d8c5",
   "metadata": {},
   "source": [
    "Sistema : $\\begin{bmatrix} K^1_{11} & K^1_{12} & 0 & 0 & \\dots & 0 & 0 & 0\\\\ K^1_{21} & K^1_{22} + K^2_{11}  & K^2_{12} & 0 & \\dots & 0 & 0 & 0 \\\\ \n",
    "0 & K^2_{21} & K^2_{22} + K^3_{11}  & K^3_{12} & \\dots & 0 & 0 & 0 \\\\ \n",
    "\\vdots & \\vdots &  \\vdots &  \\vdots & \\vdots & \\vdots & \\vdots & \\vdots \\\\\n",
    " 0 & 0 & 0 & 0 & \\dots & K^{Ne-1}_{21} & K^{Ne-1}_{22} + K^{Ne}_{11} & K^{Ne}_{12} \\\\\n",
    " 0 & 0 & 0 & 0 & \\dots & 0 & K^{Ne}_{21} & K^{Ne}_{22} \\end{bmatrix}\n",
    " \\begin{bmatrix} V_1 \\\\ V_2 \\\\ V_3 \\\\ \\vdots \\\\ V_{N_e -1} \\\\ V_{N_e} \\\\ V_{N_e +1} \\end{bmatrix} = \n",
    " \\begin{bmatrix} f^1_1 \\\\ f^1_2 + f^2_1 \\\\ f^2_2 + f^3_1 \\\\ \\vdots \\\\ f^{N_e-1}_2 + f^{N_e}_1 \\\\ f^{N_e}_2 \\\\ \\end{bmatrix}\n",
    " \\begin{bmatrix} D_z (d) \\\\ 0\\\\ 0\\\\ 0\\\\ 0\\\\-D_z (0) \\end{bmatrix}\n",
    " $"
   ]
  },
  {
   "cell_type": "markdown",
   "id": "862adf8b",
   "metadata": {},
   "source": [
    "<h2> Condições de contorno"
   ]
  },
  {
   "cell_type": "markdown",
   "id": "ffa48c45",
   "metadata": {},
   "source": [
    "- $V_1 = 0$\n",
    "- $V_n = V_0$"
   ]
  },
  {
   "cell_type": "markdown",
   "id": "bc43405a",
   "metadata": {},
   "source": [
    "A <ins>primeira e última linha da matriz de K são eliminadas</ins> por essas condições e a <ins>1a e última coluna são passadas para o termo independente</ins> logo temos o sistema de equações da seguinte forma:<br>\n",
    "<br>\n",
    "<br>\n",
    "\\begin{align}\n",
    "       K_{22}V_2 + K_{23}V_3 + K_{24}V_4 + ... + K_{2(N-1)}V_{N-1} = b_2 - K_{2N}V_0 \\\\\n",
    "       K_{32}V_2 + K_{33}V_3 + K_{34}V_4 + ... + K_{3(N-1)}V_{N-1} = b_3 - K_{3N}V_0 \\\\\n",
    "       K_{42}V_2 + K_{43}V_3 + K_{44}V_4 + ... + K_{4(N-1)}V_{N-1} = b_4 - K_{4N}V_0 \\\\\n",
    "       \\vdots \\\\\n",
    "       K_{(N-1)2}V_2 + K_{(N-1)3}V_3 + K_{(N-1)4}V_4 + ... + K_{(N-1)(N-1)}V_{N-1} = b_{N-1} - K_{(N-1)N}V_0\n",
    "\\end{align} "
   ]
  },
  {
   "cell_type": "markdown",
   "id": "fd588e1d",
   "metadata": {},
   "source": [
    "<h1> Parte 2 - Código para achar DDPs dos nós"
   ]
  },
  {
   "cell_type": "code",
   "execution_count": 3,
   "id": "f3b7028a",
   "metadata": {},
   "outputs": [],
   "source": [
    "import numpy as np\n",
    "import math"
   ]
  },
  {
   "cell_type": "markdown",
   "id": "b6e0c6b5",
   "metadata": {},
   "source": [
    "<h5>Utilizando o Epsilon Heterogêneo (Considerando que o Epsilon de um segmento é a media dois nós nas bordas)"
   ]
  },
  {
   "cell_type": "code",
   "execution_count": 4,
   "id": "ab4708b9",
   "metadata": {},
   "outputs": [],
   "source": [
    "def epsilonFunc(epsilonR, z, d):\n",
    "    epsilonZero = 8.85*(10**-12)\n",
    "    return epsilonZero*(1+((epsilonR*z)/d))"
   ]
  },
  {
   "cell_type": "markdown",
   "id": "4fec93a2",
   "metadata": {},
   "source": [
    "<h5> Função para gerar a matriz dos elementos K"
   ]
  },
  {
   "cell_type": "code",
   "execution_count": 5,
   "id": "98d5cd37",
   "metadata": {},
   "outputs": [],
   "source": [
    "#Pra calcular a matrizK eu vou pegar a média dos valores da função Epsilon entre os nós de um segmento\n",
    "def valoresBaseMatriz(N, epsilonR, le, d):\n",
    "    placeholder = np.zeros((N, N)) \n",
    "    \n",
    "    for i in range(0,N):\n",
    "        for j in range(0, N):\n",
    "            if ((i == 0 and j == 0) or (i == N-1 and j == N-1)): \n",
    "                z1 = le*i\n",
    "                z2 = le*(i+1)\n",
    "                placeholder[i][j] = (epsilonFunc(epsilonR, z1, d) + epsilonFunc(epsilonR, z2, d))/2\n",
    "            elif(i == j):\n",
    "                z1 = le*i\n",
    "                z2 = le*(i+1)\n",
    "                z3 = le*(i-1)\n",
    "                placeholder[i][j] = (epsilonFunc(epsilonR, z1, d) +  epsilonFunc(epsilonR, z2, d))/2  + (epsilonFunc(epsilonR, z3, d) + epsilonFunc(epsilonR, z1, d))/2 # a diagonal tem 2 termos, menos o 1o e ultimo termo nela\n",
    "            elif(j-1 == i or j+1 == i or i-1 == j or i+1 == j): #todos os termos ao lado da diagonal são -1\n",
    "                if(j>i): \n",
    "                    z1 = le*i\n",
    "                    z2 = le*(i+1)\n",
    "                else: \n",
    "                    z1 = le*j\n",
    "                    z2 = le*(j+1)\n",
    "                placeholder[i][j] = -(epsilonFunc(epsilonR, z1, d) + epsilonFunc(epsilonR, z2, d))/2\n",
    "    return placeholder"
   ]
  },
  {
   "cell_type": "markdown",
   "id": "74ab785e",
   "metadata": {},
   "source": [
    "<h5> Preparando a matriz base dos elementos K"
   ]
  },
  {
   "cell_type": "code",
   "execution_count": 6,
   "id": "0d0dda2c",
   "metadata": {},
   "outputs": [],
   "source": [
    "## usando agora que V_1 = 0 e V_n = V_0 preciso dropar a última e 1a linha \n",
    "#Funcionando OK\n",
    "def preprocessamento(Ne, d, epsilonR):\n",
    "    l = d/Ne\n",
    "    matrizK = valoresBaseMatriz(Ne, epsilonR, l, d) # Ne\n",
    "    \n",
    "    linhas, colunas = matrizK.shape\n",
    "    #valores que são passados pra direita da equação\n",
    "    colunaMovidaNe = [row[colunas-1] for row in matrizK]\n",
    "    colunaMovida0 = [row[0] for row in matrizK]\n",
    "    colunaMovidaNe = np.multiply(colunaMovidaNe, -1) ##são passados para o outro lado, logo o multiplica-se por -1\n",
    "    colunaMovida0 = np.multiply(colunaMovida0, -1)\n",
    "    \n",
    "    #A partir das condições de contorno\n",
    "    ##tirar a 1a e ultima linha \n",
    "    matrizK = np.delete(matrizK, [0, linhas-1], 0)\n",
    "    ##dropar a coluna 1 e Ne\n",
    "    matrizK = np.delete(matrizK, 0, 1)\n",
    "    matrizK = np.delete(matrizK, colunas-2, 1)\n",
    "    return matrizK, colunaMovida0, colunaMovidaNe"
   ]
  },
  {
   "cell_type": "markdown",
   "id": "3d92a045",
   "metadata": {},
   "source": [
    "<h5>Utilizando a função da carga"
   ]
  },
  {
   "cell_type": "code",
   "execution_count": 7,
   "id": "18c7c5eb",
   "metadata": {},
   "outputs": [],
   "source": [
    "def chargeFunc(le, Ne, rho):\n",
    "    tamanho = Ne-2 ## Ne-2 pq tiramos a 1a e ultima coluna, os termos conhecidos\n",
    "    placeholder = np.zeros((tamanho,1))\n",
    "    for i in range(0,tamanho):\n",
    "        if(i == 0 or i == tamanho-1):\n",
    "            placeholder[i][0] = -((rho*le)/2)\n",
    "        else:\n",
    "            placeholder[i][0] = -2*((rho*le)/2)\n",
    "    \n",
    "    #print(placeholder)\n",
    "    #no nosso caso existem 0 cargas\n",
    "    return placeholder"
   ]
  },
  {
   "cell_type": "markdown",
   "id": "4f00d5c3",
   "metadata": {},
   "source": [
    "<h5> Processo final de resolução das ddps nos nós"
   ]
  },
  {
   "cell_type": "code",
   "execution_count": 8,
   "id": "9b775770",
   "metadata": {},
   "outputs": [],
   "source": [
    "#computando o valor final do lado direito da equação(depois do =)\n",
    "def processaMatriz(colunaMovida0, colunaMovidaNe, Ne, Vneg, Vpos):\n",
    "    colunaMovida0 = np.delete(colunaMovida0, 0)\n",
    "    colunaMovida0 = np.delete(colunaMovida0, Ne-2)\n",
    "\n",
    "    colunaMovidaNe = np.delete(colunaMovidaNe, 0)\n",
    "    colunaMovidaNe = np.delete(colunaMovidaNe, Ne-2)\n",
    "    #print(colunaMovida0)\n",
    "    #print(colunaMovidaNe)\n",
    "    \n",
    "    colunaMovida0_final = np.multiply(Vneg, colunaMovida0)\n",
    "    colunaMovidaNe_final = np.multiply(Vpos,colunaMovidaNe)\n",
    "    \n",
    "    return (colunaMovida0_final + colunaMovidaNe_final)"
   ]
  },
  {
   "cell_type": "code",
   "execution_count": 9,
   "id": "156993d5",
   "metadata": {},
   "outputs": [],
   "source": [
    "def resolveSistema1D(matrizK, colunasMovidas, le, Ne, rho):\n",
    "    ##resolver a matriz\n",
    "    equerda = matrizK\n",
    "    direita = colunasMovidas + chargeFunc(le, Ne, rho)\n",
    "    x = np.linalg.solve(equerda, direita)\n",
    "    #print(x)\n",
    "    return x"
   ]
  },
  {
   "cell_type": "markdown",
   "id": "c94c2861",
   "metadata": {},
   "source": [
    "<h1>Parte 3 - Capacitância"
   ]
  },
  {
   "cell_type": "markdown",
   "id": "1189b57e",
   "metadata": {},
   "source": [
    "Agora para achar a capacitância: <br>\n",
    "$C = \\frac{K\\epsilon_0 A}{d} = \\frac{Q}{V}$ <br>\n",
    "\n",
    "Sabe-se, também, que: <br> $E = \\frac{Q}{K\\epsilon_0A}$ <br> $V = Ed$\n",
    "\n",
    "Além disso: $V = Ed$\n",
    "\n",
    "Daí, $C = \\frac{Q}{\\frac{Qd}{K\\epsilon_0A}} = \\frac{\\epsilon_0A}{\\frac{d}{K}}$ \n",
    "\n",
    "Portanto, com vários nós será: $C = \\frac{\\epsilon_0A}{\\frac{d}{K_1} + \\frac{d}{K_2} + \\dots + \\frac{d}{K_{N}}}$\n",
    "\n",
    "Sendo $K = \\frac{\\epsilon_r}{\\epsilon_0}$ <br>\n",
    "Obs : $K = 1+\\frac{\\epsilon_rz}{d}$ no caso específico da questão e o 'd' para todos os nós sera $l_e$"
   ]
  },
  {
   "cell_type": "markdown",
   "id": "f0477651",
   "metadata": {},
   "source": [
    "Logo, baseando se na fórmula demonstada anteriormente, posso calcula a capacitância total a partir das ddps dos nós encontradas"
   ]
  },
  {
   "cell_type": "code",
   "execution_count": 30,
   "id": "e6354bfe",
   "metadata": {},
   "outputs": [],
   "source": [
    "#essa função sera usada para achar a capacitância de todos os pontos passados(pelo resultado dos métodos anteriores) e plotar ela\n",
    "#de maneira semelhante à feita com as ddps dos nós, vou pegar o valor médio da função epsilon pra computar os valor do epsilon do segmento atual\n",
    "def acharCap(ddpsNos, epsilonR, L, le, d, i):\n",
    "    A = L**2\n",
    "    epsilonZero = 8.85*(10**(-12))\n",
    "    dividendo = epsilonZero * A\n",
    "    divisor = 0\n",
    "    Ne = len(ddpsNos)\n",
    "    z1 = le*i\n",
    "    z2 = le*(i+1)\n",
    "    epsilonAtual = (epsilonFunc(epsilonR, z1, d) + epsilonFunc(epsilonR, z2, d))/2\n",
    "    for i in range(0, Ne):\n",
    "        divisor += le/(epsilonAtual/epsilonZero)\n",
    "    \n",
    "    return (dividendo/divisor)"
   ]
  },
  {
   "cell_type": "markdown",
   "id": "c4965141",
   "metadata": {},
   "source": [
    "<h1> Parte 4 - Caso específico"
   ]
  },
  {
   "cell_type": "code",
   "execution_count": 11,
   "id": "17cb94a3",
   "metadata": {},
   "outputs": [
    {
     "name": "stdout",
     "output_type": "stream",
     "text": [
      "[[ 2.65500e-11 -1.54875e-11  0.00000e+00  0.00000e+00]\n",
      " [-1.54875e-11  3.54000e-11 -1.99125e-11  0.00000e+00]\n",
      " [ 0.00000e+00 -1.99125e-11  4.42500e-11 -2.43375e-11]\n",
      " [ 0.00000e+00  0.00000e+00 -2.43375e-11  5.31000e-11]]\n"
     ]
    }
   ],
   "source": [
    "import numpy as np\n",
    "Ne = 5\n",
    "d = 10**(-3)\n",
    "le = d/Ne\n",
    "epsilonR = 3\n",
    "rho = 0\n",
    "Vpos = 1\n",
    "Vneg = 0\n",
    "\n",
    "matrizK, colunaMovida0, colunaMovidaNe = preprocessamento(Ne+1, d, epsilonR) # Ne+1 = Nn\n",
    "print(matrizK)"
   ]
  },
  {
   "cell_type": "code",
   "execution_count": 14,
   "id": "c95e5895",
   "metadata": {},
   "outputs": [
    {
     "name": "stdout",
     "output_type": "stream",
     "text": [
      "[[ 0.00000e+00]\n",
      " [-0.00000e+00]\n",
      " [-0.00000e+00]\n",
      " [ 2.87625e-11]]\n"
     ]
    }
   ],
   "source": [
    "#Tirando a 1a e ultima linha das colunas movidas e somando com os valores das condições iniciais para a parte direita da equação total\n",
    "colunaDireitaEquação = processaMatriz(colunaMovida0, colunaMovidaNe, Ne+1, Vneg, Vpos)\n",
    "colunaDireitaEquação = np.reshape(colunaDireitaEquação, (Ne-1,1))\n",
    "print(colunaDireitaEquação)"
   ]
  },
  {
   "cell_type": "code",
   "execution_count": 15,
   "id": "ad80adb0",
   "metadata": {},
   "outputs": [
    {
     "name": "stdout",
     "output_type": "stream",
     "text": [
      "[[0.32164661]\n",
      " [0.55139419]\n",
      " [0.73008676]\n",
      " [0.87628976]]\n"
     ]
    }
   ],
   "source": [
    "NodesResult = resolveSistema1D(matrizK, colunaDireitaEquação, le, Ne+1, rho)\n",
    "print(NodesResult)"
   ]
  },
  {
   "cell_type": "code",
   "execution_count": 17,
   "id": "93012fd5",
   "metadata": {},
   "outputs": [],
   "source": [
    "import matplotlib.pyplot as plt"
   ]
  },
  {
   "cell_type": "code",
   "execution_count": 27,
   "id": "49303453",
   "metadata": {},
   "outputs": [],
   "source": [
    "def plotaN(Ne, le, Vneg, Vpos, NodesResult):\n",
    "    #os pontos no eixo z\n",
    "    pontosZ = []\n",
    "    for i in range(0,Ne+1):\n",
    "        pontosZ.append(i*le)\n",
    "        \n",
    "    dots = []\n",
    "    dots.append(Vneg)\n",
    "    for i in range(0, Ne-1):\n",
    "        dots.append(NodesResult[i][0])\n",
    "    dots.append(Vpos) # entra no final\n",
    "    \n",
    "    return pontosZ, dots"
   ]
  },
  {
   "cell_type": "code",
   "execution_count": 28,
   "id": "554ba6db",
   "metadata": {},
   "outputs": [
    {
     "data": {
      "image/png": "[encoded data removed]",
      "text/plain": [
       "<Figure size 432x288 with 1 Axes>"
      ]
     },
     "metadata": {
      "needs_background": "light"
     },
     "output_type": "display_data"
    }
   ],
   "source": [
    "pontosZ, dots = plotaN(Ne, le, Vneg, Vpos, NodesResult)\n",
    "plt.plot(pontosZ, dots)\n",
    "plt.title('Resultado da Aproximação')\n",
    "plt.xlabel('z(m)')\n",
    "plt.ylabel('V(z)')\n",
    "plt.show()"
   ]
  },
  {
   "cell_type": "markdown",
   "id": "3d97e106",
   "metadata": {},
   "source": [
    "<h1> Parte 5 - Múltiplos Valores de N para o caso específico"
   ]
  },
  {
   "cell_type": "code",
   "execution_count": 29,
   "id": "af9daf29",
   "metadata": {},
   "outputs": [],
   "source": [
    "def testaUmCaso(rho, Vpos, Vneg, epsilonR, le, d, Natual):\n",
    "    matrizK, colunaMovida0, colunaMovidaNe = preprocessamento(Natual+1, d, epsilonR)  # Ne+1 = Nn\n",
    "    colunaDireitaEquação = processaMatriz(colunaMovida0, colunaMovidaNe, Natual+1, Vneg, Vpos)\n",
    "    colunaDireitaEquação = np.reshape(colunaDireitaEquação, (Natual-1,1))\n",
    "    NodesResult = resolveSistema1D(matrizK, colunaDireitaEquação, le, Natual+1, rho)\n",
    "    return NodesResult"
   ]
  },
  {
   "cell_type": "code",
   "execution_count": 36,
   "id": "0594b308",
   "metadata": {},
   "outputs": [
    {
     "name": "stdout",
     "output_type": "stream",
     "text": [
      "Quantos N deseja colocar?\n",
      "3\n",
      "Digite o N de segmentos:\n",
      "8\n",
      "Digite o N de segmentos:\n",
      "7\n",
      "Digite o N de segmentos:\n",
      "5\n"
     ]
    },
    {
     "data": {
      "image/png": "[encoded data removed]",
      "text/plain": [
       "<Figure size 432x288 with 1 Axes>"
      ]
     },
     "metadata": {
      "needs_background": "light"
     },
     "output_type": "display_data"
    }
   ],
   "source": [
    "import numpy as np\n",
    "d = 10**(-3)\n",
    "le = d/Ne\n",
    "epsilonR = 3\n",
    "rho = 0\n",
    "Vpos = 1\n",
    "Vneg = 0\n",
    "\n",
    "Ndesejados = []\n",
    "Nreferencias = []\n",
    "leDesejados = []\n",
    "print(\"Quantos N deseja colocar?\")\n",
    "Ntotal = int(input())\n",
    "for i in range(0, Ntotal):\n",
    "    print(\"Digite o N de segmentos:\")  \n",
    "    Natual = int(input())\n",
    "    Nreferencias.append(Natual)\n",
    "    le = d/Natual\n",
    "    leDesejados.append(le)\n",
    "    resultadoAtual = testaUmCaso(rho, Vpos, Vneg, epsilonR, le, d, Natual)\n",
    "    Ndesejados.append(resultadoAtual)\n",
    "    \n",
    "for i in range(0, Ntotal):\n",
    "    leAtual = leDesejados[i]\n",
    "    resultadoAtual = Ndesejados[i]\n",
    "    Natual = Nreferencias[i]\n",
    "    final = testaUmCaso(rho, Vpos, Vneg, epsilonR, le, d, Natual)\n",
    "    dots, Vplots = plotaN(Natual, le, Vneg, Vpos, final)\n",
    "    plt.plot(dots, Vplots, label = \"N=\" + str(Natual))\n",
    "\n",
    "plt.title('Resultados da Aproximação')\n",
    "plt.legend()\n",
    "plt.show()"
   ]
  },
  {
   "cell_type": "markdown",
   "id": "eb39ebeb",
   "metadata": {},
   "source": [
    "<h1> Parte 6 - Capacitância para múltiplos valores de N"
   ]
  },
  {
   "cell_type": "code",
   "execution_count": null,
   "id": "d101f5d8",
   "metadata": {},
   "outputs": [],
   "source": []
  }
 ],
 "metadata": {
  "kernelspec": {
   "display_name": "Python 3 (ipykernel)",
   "language": "python",
   "name": "python3"
  },
  "language_info": {
   "codemirror_mode": {
    "name": "ipython",
    "version": 3
   },
   "file_extension": ".py",
   "mimetype": "text/x-python",
   "name": "python",
   "nbconvert_exporter": "python",
   "pygments_lexer": "ipython3",
   "version": "3.10.4"
  }
 },
 "nbformat": 4,
 "nbformat_minor": 5
}
